{
 "cells": [
  {
   "cell_type": "markdown",
   "metadata": {},
   "source": [
    "# Standard Bank Tech Impact Challenge: Xente credit scoring challenge "
   ]
  },
  {
   "cell_type": "markdown",
   "metadata": {},
   "source": [
    "In this challenge, the task is to predict from a historical dataset of transactions and repayments the likelihood of default in each transaction in a test set contaning various customers.\n",
    "This is a binary classification problem where the output should be 1 for a defaulted loan and 0 otherwise."
   ]
  },
  {
   "cell_type": "code",
   "execution_count": 1,
   "metadata": {},
   "outputs": [],
   "source": [
    "## importing libraries\n",
    "import pandas as pd\n",
    "import numpy as np"
   ]
  },
  {
   "cell_type": "code",
   "execution_count": 2,
   "metadata": {},
   "outputs": [],
   "source": [
    "## reading the files and loading them into dataframes.\n",
    "train = pd.read_csv('C:/Users/Amine/Desktop/Standard Bank Tech Impact Challenge Xente credit scoring challenge/Train.csv')\n",
    "test= pd.read_csv('C:/Users/Amine/Desktop/Standard Bank Tech Impact Challenge Xente credit scoring challenge/Test.csv')\n",
    "sample = pd.read_csv('C:/Users/Amine/Desktop/Standard Bank Tech Impact Challenge Xente credit scoring challenge/sample_submission.csv')\n",
    "mask = pd.read_csv('C:/Users/Amine/Desktop/Standard Bank Tech Impact Challenge Xente credit scoring challenge/unlinked_masked_final.csv')\n",
    "variabs = pd.read_csv('C:/Users/Amine/Desktop/Standard Bank Tech Impact Challenge Xente credit scoring challenge/VariableDefinitions.csv')"
   ]
  },
  {
   "cell_type": "markdown",
   "metadata": {},
   "source": [
    "I'm still not quite familiar with the nature of the data, and how data needs to be organized in order to properly model for this challenge. I will update this notebook as soon as i get better with this particular problem."
   ]
  },
  {
   "cell_type": "code",
   "execution_count": 3,
   "metadata": {},
   "outputs": [
    {
     "data": {
      "text/html": [
       "<div>\n",
       "<style scoped>\n",
       "    .dataframe tbody tr th:only-of-type {\n",
       "        vertical-align: middle;\n",
       "    }\n",
       "\n",
       "    .dataframe tbody tr th {\n",
       "        vertical-align: top;\n",
       "    }\n",
       "\n",
       "    .dataframe thead th {\n",
       "        text-align: right;\n",
       "    }\n",
       "</style>\n",
       "<table border=\"1\" class=\"dataframe\">\n",
       "  <thead>\n",
       "    <tr style=\"text-align: right;\">\n",
       "      <th></th>\n",
       "      <th>CustomerId</th>\n",
       "      <th>TransactionStartTime</th>\n",
       "      <th>Value</th>\n",
       "      <th>Amount</th>\n",
       "      <th>TransactionId</th>\n",
       "      <th>BatchId</th>\n",
       "      <th>SubscriptionId</th>\n",
       "      <th>CurrencyCode</th>\n",
       "      <th>CountryCode</th>\n",
       "      <th>ProviderId</th>\n",
       "      <th>...</th>\n",
       "      <th>LoanId</th>\n",
       "      <th>PaidOnDate</th>\n",
       "      <th>IsFinalPayBack</th>\n",
       "      <th>InvestorId</th>\n",
       "      <th>DueDate</th>\n",
       "      <th>LoanApplicationId</th>\n",
       "      <th>PayBackId</th>\n",
       "      <th>ThirdPartyId</th>\n",
       "      <th>IsThirdPartyConfirmed</th>\n",
       "      <th>IsDefaulted</th>\n",
       "    </tr>\n",
       "  </thead>\n",
       "  <tbody>\n",
       "    <tr>\n",
       "      <th>0</th>\n",
       "      <td>CustomerId_27</td>\n",
       "      <td>2018-09-21 12:17:39</td>\n",
       "      <td>550.0</td>\n",
       "      <td>-550.0</td>\n",
       "      <td>TransactionId_1683</td>\n",
       "      <td>BatchId_641</td>\n",
       "      <td>SubscriptionId_2</td>\n",
       "      <td>UGX</td>\n",
       "      <td>256</td>\n",
       "      <td>ProviderId_1</td>\n",
       "      <td>...</td>\n",
       "      <td>NaN</td>\n",
       "      <td>NaN</td>\n",
       "      <td>NaN</td>\n",
       "      <td>NaN</td>\n",
       "      <td>NaN</td>\n",
       "      <td>NaN</td>\n",
       "      <td>NaN</td>\n",
       "      <td>NaN</td>\n",
       "      <td>NaN</td>\n",
       "      <td>NaN</td>\n",
       "    </tr>\n",
       "    <tr>\n",
       "      <th>1</th>\n",
       "      <td>CustomerId_27</td>\n",
       "      <td>2018-09-25 09:20:29</td>\n",
       "      <td>550.0</td>\n",
       "      <td>-550.0</td>\n",
       "      <td>TransactionId_2235</td>\n",
       "      <td>BatchId_820</td>\n",
       "      <td>SubscriptionId_2</td>\n",
       "      <td>UGX</td>\n",
       "      <td>256</td>\n",
       "      <td>ProviderId_1</td>\n",
       "      <td>...</td>\n",
       "      <td>NaN</td>\n",
       "      <td>NaN</td>\n",
       "      <td>NaN</td>\n",
       "      <td>NaN</td>\n",
       "      <td>NaN</td>\n",
       "      <td>NaN</td>\n",
       "      <td>NaN</td>\n",
       "      <td>NaN</td>\n",
       "      <td>NaN</td>\n",
       "      <td>NaN</td>\n",
       "    </tr>\n",
       "    <tr>\n",
       "      <th>2</th>\n",
       "      <td>CustomerId_27</td>\n",
       "      <td>2018-09-25 10:33:31</td>\n",
       "      <td>550.0</td>\n",
       "      <td>-550.0</td>\n",
       "      <td>TransactionId_1053</td>\n",
       "      <td>BatchId_210</td>\n",
       "      <td>SubscriptionId_4</td>\n",
       "      <td>UGX</td>\n",
       "      <td>256</td>\n",
       "      <td>ProviderId_1</td>\n",
       "      <td>...</td>\n",
       "      <td>NaN</td>\n",
       "      <td>NaN</td>\n",
       "      <td>NaN</td>\n",
       "      <td>NaN</td>\n",
       "      <td>NaN</td>\n",
       "      <td>NaN</td>\n",
       "      <td>NaN</td>\n",
       "      <td>NaN</td>\n",
       "      <td>NaN</td>\n",
       "      <td>NaN</td>\n",
       "    </tr>\n",
       "  </tbody>\n",
       "</table>\n",
       "<p>3 rows × 27 columns</p>\n",
       "</div>"
      ],
      "text/plain": [
       "      CustomerId TransactionStartTime  Value  Amount       TransactionId  \\\n",
       "0  CustomerId_27  2018-09-21 12:17:39  550.0  -550.0  TransactionId_1683   \n",
       "1  CustomerId_27  2018-09-25 09:20:29  550.0  -550.0  TransactionId_2235   \n",
       "2  CustomerId_27  2018-09-25 10:33:31  550.0  -550.0  TransactionId_1053   \n",
       "\n",
       "       BatchId    SubscriptionId CurrencyCode  CountryCode    ProviderId  ...  \\\n",
       "0  BatchId_641  SubscriptionId_2          UGX          256  ProviderId_1  ...   \n",
       "1  BatchId_820  SubscriptionId_2          UGX          256  ProviderId_1  ...   \n",
       "2  BatchId_210  SubscriptionId_4          UGX          256  ProviderId_1  ...   \n",
       "\n",
       "  LoanId PaidOnDate IsFinalPayBack  InvestorId DueDate  LoanApplicationId  \\\n",
       "0    NaN        NaN            NaN         NaN     NaN                NaN   \n",
       "1    NaN        NaN            NaN         NaN     NaN                NaN   \n",
       "2    NaN        NaN            NaN         NaN     NaN                NaN   \n",
       "\n",
       "  PayBackId ThirdPartyId IsThirdPartyConfirmed  IsDefaulted  \n",
       "0       NaN          NaN                   NaN          NaN  \n",
       "1       NaN          NaN                   NaN          NaN  \n",
       "2       NaN          NaN                   NaN          NaN  \n",
       "\n",
       "[3 rows x 27 columns]"
      ]
     },
     "execution_count": 3,
     "metadata": {},
     "output_type": "execute_result"
    }
   ],
   "source": [
    "## The data was ordered by date. So lets check it.\n",
    "train.head(3)"
   ]
  },
  {
   "cell_type": "markdown",
   "metadata": {},
   "source": [
    "So it starts from 21th of September 2018 **( Do you remember 21st night of September? Customer_27 does. Couldn't help it sorry)**"
   ]
  },
  {
   "cell_type": "code",
   "execution_count": 4,
   "metadata": {},
   "outputs": [
    {
     "data": {
      "text/html": [
       "<div>\n",
       "<style scoped>\n",
       "    .dataframe tbody tr th:only-of-type {\n",
       "        vertical-align: middle;\n",
       "    }\n",
       "\n",
       "    .dataframe tbody tr th {\n",
       "        vertical-align: top;\n",
       "    }\n",
       "\n",
       "    .dataframe thead th {\n",
       "        text-align: right;\n",
       "    }\n",
       "</style>\n",
       "<table border=\"1\" class=\"dataframe\">\n",
       "  <thead>\n",
       "    <tr style=\"text-align: right;\">\n",
       "      <th></th>\n",
       "      <th>CustomerId</th>\n",
       "      <th>TransactionStartTime</th>\n",
       "      <th>Value</th>\n",
       "      <th>Amount</th>\n",
       "      <th>TransactionId</th>\n",
       "      <th>BatchId</th>\n",
       "      <th>SubscriptionId</th>\n",
       "      <th>CurrencyCode</th>\n",
       "      <th>CountryCode</th>\n",
       "      <th>ProviderId</th>\n",
       "      <th>...</th>\n",
       "      <th>LoanId</th>\n",
       "      <th>PaidOnDate</th>\n",
       "      <th>IsFinalPayBack</th>\n",
       "      <th>InvestorId</th>\n",
       "      <th>DueDate</th>\n",
       "      <th>LoanApplicationId</th>\n",
       "      <th>PayBackId</th>\n",
       "      <th>ThirdPartyId</th>\n",
       "      <th>IsThirdPartyConfirmed</th>\n",
       "      <th>IsDefaulted</th>\n",
       "    </tr>\n",
       "  </thead>\n",
       "  <tbody>\n",
       "    <tr>\n",
       "      <th>2097</th>\n",
       "      <td>CustomerId_34</td>\n",
       "      <td>2019-03-31 05:40:10</td>\n",
       "      <td>5000.0</td>\n",
       "      <td>-5000.0</td>\n",
       "      <td>TransactionId_2507</td>\n",
       "      <td>BatchId_1093</td>\n",
       "      <td>SubscriptionId_7</td>\n",
       "      <td>UGX</td>\n",
       "      <td>256</td>\n",
       "      <td>ProviderId_1</td>\n",
       "      <td>...</td>\n",
       "      <td>LoanId_1585</td>\n",
       "      <td>2019-06-15 06:20:05</td>\n",
       "      <td>1.0</td>\n",
       "      <td>InvestorId_1</td>\n",
       "      <td>2019-04-30 05:40:02</td>\n",
       "      <td>LoanApplicationId_1466</td>\n",
       "      <td>PayBackId_1271</td>\n",
       "      <td>ThirdPartyId_1981</td>\n",
       "      <td>1.0</td>\n",
       "      <td>0.0</td>\n",
       "    </tr>\n",
       "    <tr>\n",
       "      <th>2098</th>\n",
       "      <td>CustomerId_346</td>\n",
       "      <td>2019-03-31 09:37:19</td>\n",
       "      <td>1500.0</td>\n",
       "      <td>-1500.0</td>\n",
       "      <td>TransactionId_540</td>\n",
       "      <td>BatchId_1239</td>\n",
       "      <td>SubscriptionId_7</td>\n",
       "      <td>UGX</td>\n",
       "      <td>256</td>\n",
       "      <td>ProviderId_1</td>\n",
       "      <td>...</td>\n",
       "      <td>LoanId_1314</td>\n",
       "      <td>2019-04-23 15:44:15</td>\n",
       "      <td>1.0</td>\n",
       "      <td>InvestorId_1</td>\n",
       "      <td>2019-04-30 09:37:15</td>\n",
       "      <td>LoanApplicationId_1389</td>\n",
       "      <td>PayBackId_945</td>\n",
       "      <td>ThirdPartyId_705</td>\n",
       "      <td>1.0</td>\n",
       "      <td>0.0</td>\n",
       "    </tr>\n",
       "    <tr>\n",
       "      <th>2099</th>\n",
       "      <td>CustomerId_188</td>\n",
       "      <td>2019-03-31 12:16:33</td>\n",
       "      <td>1000.0</td>\n",
       "      <td>-1000.0</td>\n",
       "      <td>TransactionId_1889</td>\n",
       "      <td>BatchId_355</td>\n",
       "      <td>SubscriptionId_7</td>\n",
       "      <td>UGX</td>\n",
       "      <td>256</td>\n",
       "      <td>ProviderId_1</td>\n",
       "      <td>...</td>\n",
       "      <td>LoanId_1570</td>\n",
       "      <td>2019-04-10 17:33:19</td>\n",
       "      <td>1.0</td>\n",
       "      <td>InvestorId_1</td>\n",
       "      <td>2019-04-30 12:16:26</td>\n",
       "      <td>LoanApplicationId_57</td>\n",
       "      <td>PayBackId_830</td>\n",
       "      <td>ThirdPartyId_899</td>\n",
       "      <td>1.0</td>\n",
       "      <td>0.0</td>\n",
       "    </tr>\n",
       "  </tbody>\n",
       "</table>\n",
       "<p>3 rows × 27 columns</p>\n",
       "</div>"
      ],
      "text/plain": [
       "          CustomerId TransactionStartTime   Value  Amount       TransactionId  \\\n",
       "2097   CustomerId_34  2019-03-31 05:40:10  5000.0 -5000.0  TransactionId_2507   \n",
       "2098  CustomerId_346  2019-03-31 09:37:19  1500.0 -1500.0   TransactionId_540   \n",
       "2099  CustomerId_188  2019-03-31 12:16:33  1000.0 -1000.0  TransactionId_1889   \n",
       "\n",
       "           BatchId    SubscriptionId CurrencyCode  CountryCode    ProviderId  \\\n",
       "2097  BatchId_1093  SubscriptionId_7          UGX          256  ProviderId_1   \n",
       "2098  BatchId_1239  SubscriptionId_7          UGX          256  ProviderId_1   \n",
       "2099   BatchId_355  SubscriptionId_7          UGX          256  ProviderId_1   \n",
       "\n",
       "      ...       LoanId           PaidOnDate IsFinalPayBack    InvestorId  \\\n",
       "2097  ...  LoanId_1585  2019-06-15 06:20:05            1.0  InvestorId_1   \n",
       "2098  ...  LoanId_1314  2019-04-23 15:44:15            1.0  InvestorId_1   \n",
       "2099  ...  LoanId_1570  2019-04-10 17:33:19            1.0  InvestorId_1   \n",
       "\n",
       "                  DueDate       LoanApplicationId       PayBackId  \\\n",
       "2097  2019-04-30 05:40:02  LoanApplicationId_1466  PayBackId_1271   \n",
       "2098  2019-04-30 09:37:15  LoanApplicationId_1389   PayBackId_945   \n",
       "2099  2019-04-30 12:16:26    LoanApplicationId_57   PayBackId_830   \n",
       "\n",
       "           ThirdPartyId IsThirdPartyConfirmed  IsDefaulted  \n",
       "2097  ThirdPartyId_1981                   1.0          0.0  \n",
       "2098   ThirdPartyId_705                   1.0          0.0  \n",
       "2099   ThirdPartyId_899                   1.0          0.0  \n",
       "\n",
       "[3 rows x 27 columns]"
      ]
     },
     "execution_count": 4,
     "metadata": {},
     "output_type": "execute_result"
    }
   ],
   "source": [
    "## It ends 31th of March 2019\n",
    "train.tail(3)"
   ]
  },
  {
   "cell_type": "markdown",
   "metadata": {},
   "source": [
    "It says on the challenge data section that the maximum date is 17 July 2019. So we can logically assume that we're being tested on transactions between 01-04-2019 and 17-07-2019"
   ]
  },
  {
   "cell_type": "code",
   "execution_count": 5,
   "metadata": {},
   "outputs": [
    {
     "name": "stdout",
     "output_type": "stream",
     "text": [
      "2019-03-31 13:33:05 2019-07-17 05:34:45\n"
     ]
    }
   ],
   "source": [
    "## Lets check that\n",
    "print(test.TransactionStartTime.min(),test.TransactionStartTime.max())"
   ]
  },
  {
   "cell_type": "markdown",
   "metadata": {},
   "source": [
    "Actually the testing starts the same day train dates end. The 31th of March."
   ]
  },
  {
   "cell_type": "markdown",
   "metadata": {},
   "source": [
    "###### Definition of loan default"
   ]
  },
  {
   "cell_type": "markdown",
   "metadata": {},
   "source": [
    "Loan default occurs when a borrower fails to pay back a debt according to the initial arrangement. \n",
    "In the case of most consumer loans, this means that successive payments have been missed over the course of weeks or months. \n",
    "Fortunately, lenders and loan servicers usually allow a grace period before penalizing the borrower after missing one payment. \n",
    "The period between missing a loan payment and having the loan default is known as delinquency. \n",
    "The delinquency period gives the debtor time to avoid default by contacting their loan servicer or making up missed payments."
   ]
  },
  {
   "cell_type": "markdown",
   "metadata": {},
   "source": [
    "So there's a grace period in which the date on which the borrower is set to pay the loan or rather a portion of it is exceeded. The loan doesn't default immediately, that period is called deliquency. It should be a feature to extract and would be a good one logically. If someone is not defaulting on loans, but is missing a lot of payments he should be more likely to default soon."
   ]
  },
  {
   "cell_type": "markdown",
   "metadata": {},
   "source": [
    "**In the context of this competition and the nature of the loans granted, the grace period is 30 days!**"
   ]
  },
  {
   "cell_type": "code",
   "execution_count": 40,
   "metadata": {},
   "outputs": [
    {
     "data": {
      "text/plain": [
       "0.0    341\n",
       "1.0     75\n",
       "Name: IsDefaulted, dtype: int64"
      ]
     },
     "execution_count": 40,
     "metadata": {},
     "output_type": "execute_result"
    }
   ],
   "source": [
    "## lets see if the grace period of 30 days is true for this data\n",
    "train[(train.PaidOnDate>train.DueDate)].IsDefaulted.value_counts()"
   ]
  },
  {
   "cell_type": "markdown",
   "metadata": {},
   "source": [
    "**Something is fishy.. Not all the transactions marked as Defaulted are in this dataframe. Is it possible to have transactions that were paid before the duedate and are still marked as Defaulted? lets explore that**"
   ]
  },
  {
   "cell_type": "code",
   "execution_count": 46,
   "metadata": {},
   "outputs": [
    {
     "data": {
      "text/plain": [
       "103"
      ]
     },
     "execution_count": 46,
     "metadata": {},
     "output_type": "execute_result"
    }
   ],
   "source": [
    "len(train[(train.PaidOnDate<train.DueDate)&(train.IsDefaulted==1)])"
   ]
  },
  {
   "cell_type": "code",
   "execution_count": 44,
   "metadata": {},
   "outputs": [
    {
     "data": {
      "text/html": [
       "<div>\n",
       "<style scoped>\n",
       "    .dataframe tbody tr th:only-of-type {\n",
       "        vertical-align: middle;\n",
       "    }\n",
       "\n",
       "    .dataframe tbody tr th {\n",
       "        vertical-align: top;\n",
       "    }\n",
       "\n",
       "    .dataframe thead th {\n",
       "        text-align: right;\n",
       "    }\n",
       "</style>\n",
       "<table border=\"1\" class=\"dataframe\">\n",
       "  <thead>\n",
       "    <tr style=\"text-align: right;\">\n",
       "      <th></th>\n",
       "      <th>CustomerId</th>\n",
       "      <th>TransactionStartTime</th>\n",
       "      <th>Value</th>\n",
       "      <th>Amount</th>\n",
       "      <th>TransactionId</th>\n",
       "      <th>BatchId</th>\n",
       "      <th>SubscriptionId</th>\n",
       "      <th>CurrencyCode</th>\n",
       "      <th>CountryCode</th>\n",
       "      <th>ProviderId</th>\n",
       "      <th>...</th>\n",
       "      <th>LoanId</th>\n",
       "      <th>PaidOnDate</th>\n",
       "      <th>IsFinalPayBack</th>\n",
       "      <th>InvestorId</th>\n",
       "      <th>DueDate</th>\n",
       "      <th>LoanApplicationId</th>\n",
       "      <th>PayBackId</th>\n",
       "      <th>ThirdPartyId</th>\n",
       "      <th>IsThirdPartyConfirmed</th>\n",
       "      <th>IsDefaulted</th>\n",
       "    </tr>\n",
       "  </thead>\n",
       "  <tbody>\n",
       "    <tr>\n",
       "      <th>1847</th>\n",
       "      <td>CustomerId_158</td>\n",
       "      <td>2019-03-07 08:16:11</td>\n",
       "      <td>192000.0</td>\n",
       "      <td>-192000.0</td>\n",
       "      <td>TransactionId_2374</td>\n",
       "      <td>BatchId_1636</td>\n",
       "      <td>SubscriptionId_6</td>\n",
       "      <td>UGX</td>\n",
       "      <td>256</td>\n",
       "      <td>ProviderId_1</td>\n",
       "      <td>...</td>\n",
       "      <td>LoanId_1376</td>\n",
       "      <td>2019-04-02 10:04:20</td>\n",
       "      <td>0.0</td>\n",
       "      <td>InvestorId_2</td>\n",
       "      <td>2019-04-06 08:16:07</td>\n",
       "      <td>LoanApplicationId_323</td>\n",
       "      <td>PayBackId_449</td>\n",
       "      <td>ThirdPartyId_216</td>\n",
       "      <td>1.0</td>\n",
       "      <td>1.0</td>\n",
       "    </tr>\n",
       "    <tr>\n",
       "      <th>1848</th>\n",
       "      <td>CustomerId_158</td>\n",
       "      <td>2019-03-07 08:16:11</td>\n",
       "      <td>192000.0</td>\n",
       "      <td>-192000.0</td>\n",
       "      <td>TransactionId_2374</td>\n",
       "      <td>BatchId_1636</td>\n",
       "      <td>SubscriptionId_6</td>\n",
       "      <td>UGX</td>\n",
       "      <td>256</td>\n",
       "      <td>ProviderId_1</td>\n",
       "      <td>...</td>\n",
       "      <td>LoanId_1376</td>\n",
       "      <td>2019-04-02 20:25:15</td>\n",
       "      <td>0.0</td>\n",
       "      <td>InvestorId_2</td>\n",
       "      <td>2019-04-06 08:16:07</td>\n",
       "      <td>LoanApplicationId_323</td>\n",
       "      <td>PayBackId_843</td>\n",
       "      <td>ThirdPartyId_169</td>\n",
       "      <td>1.0</td>\n",
       "      <td>1.0</td>\n",
       "    </tr>\n",
       "    <tr>\n",
       "      <th>1849</th>\n",
       "      <td>CustomerId_158</td>\n",
       "      <td>2019-03-07 08:16:11</td>\n",
       "      <td>192000.0</td>\n",
       "      <td>-192000.0</td>\n",
       "      <td>TransactionId_2374</td>\n",
       "      <td>BatchId_1636</td>\n",
       "      <td>SubscriptionId_6</td>\n",
       "      <td>UGX</td>\n",
       "      <td>256</td>\n",
       "      <td>ProviderId_1</td>\n",
       "      <td>...</td>\n",
       "      <td>LoanId_1376</td>\n",
       "      <td>2019-05-20 08:15:05</td>\n",
       "      <td>0.0</td>\n",
       "      <td>InvestorId_2</td>\n",
       "      <td>2019-04-06 08:16:07</td>\n",
       "      <td>LoanApplicationId_323</td>\n",
       "      <td>PayBackId_1533</td>\n",
       "      <td>ThirdPartyId_1915</td>\n",
       "      <td>1.0</td>\n",
       "      <td>1.0</td>\n",
       "    </tr>\n",
       "    <tr>\n",
       "      <th>1850</th>\n",
       "      <td>CustomerId_158</td>\n",
       "      <td>2019-03-07 08:16:11</td>\n",
       "      <td>192000.0</td>\n",
       "      <td>-192000.0</td>\n",
       "      <td>TransactionId_2374</td>\n",
       "      <td>BatchId_1636</td>\n",
       "      <td>SubscriptionId_6</td>\n",
       "      <td>UGX</td>\n",
       "      <td>256</td>\n",
       "      <td>ProviderId_1</td>\n",
       "      <td>...</td>\n",
       "      <td>LoanId_1376</td>\n",
       "      <td>2019-05-28 11:05:04</td>\n",
       "      <td>0.0</td>\n",
       "      <td>InvestorId_2</td>\n",
       "      <td>2019-04-06 08:16:07</td>\n",
       "      <td>LoanApplicationId_323</td>\n",
       "      <td>PayBackId_443</td>\n",
       "      <td>ThirdPartyId_460</td>\n",
       "      <td>1.0</td>\n",
       "      <td>1.0</td>\n",
       "    </tr>\n",
       "  </tbody>\n",
       "</table>\n",
       "<p>4 rows × 27 columns</p>\n",
       "</div>"
      ],
      "text/plain": [
       "          CustomerId TransactionStartTime     Value    Amount  \\\n",
       "1847  CustomerId_158  2019-03-07 08:16:11  192000.0 -192000.0   \n",
       "1848  CustomerId_158  2019-03-07 08:16:11  192000.0 -192000.0   \n",
       "1849  CustomerId_158  2019-03-07 08:16:11  192000.0 -192000.0   \n",
       "1850  CustomerId_158  2019-03-07 08:16:11  192000.0 -192000.0   \n",
       "\n",
       "           TransactionId       BatchId    SubscriptionId CurrencyCode  \\\n",
       "1847  TransactionId_2374  BatchId_1636  SubscriptionId_6          UGX   \n",
       "1848  TransactionId_2374  BatchId_1636  SubscriptionId_6          UGX   \n",
       "1849  TransactionId_2374  BatchId_1636  SubscriptionId_6          UGX   \n",
       "1850  TransactionId_2374  BatchId_1636  SubscriptionId_6          UGX   \n",
       "\n",
       "      CountryCode    ProviderId  ...       LoanId           PaidOnDate  \\\n",
       "1847          256  ProviderId_1  ...  LoanId_1376  2019-04-02 10:04:20   \n",
       "1848          256  ProviderId_1  ...  LoanId_1376  2019-04-02 20:25:15   \n",
       "1849          256  ProviderId_1  ...  LoanId_1376  2019-05-20 08:15:05   \n",
       "1850          256  ProviderId_1  ...  LoanId_1376  2019-05-28 11:05:04   \n",
       "\n",
       "     IsFinalPayBack    InvestorId              DueDate      LoanApplicationId  \\\n",
       "1847            0.0  InvestorId_2  2019-04-06 08:16:07  LoanApplicationId_323   \n",
       "1848            0.0  InvestorId_2  2019-04-06 08:16:07  LoanApplicationId_323   \n",
       "1849            0.0  InvestorId_2  2019-04-06 08:16:07  LoanApplicationId_323   \n",
       "1850            0.0  InvestorId_2  2019-04-06 08:16:07  LoanApplicationId_323   \n",
       "\n",
       "           PayBackId       ThirdPartyId IsThirdPartyConfirmed  IsDefaulted  \n",
       "1847   PayBackId_449   ThirdPartyId_216                   1.0          1.0  \n",
       "1848   PayBackId_843   ThirdPartyId_169                   1.0          1.0  \n",
       "1849  PayBackId_1533  ThirdPartyId_1915                   1.0          1.0  \n",
       "1850   PayBackId_443   ThirdPartyId_460                   1.0          1.0  \n",
       "\n",
       "[4 rows x 27 columns]"
      ]
     },
     "execution_count": 44,
     "metadata": {},
     "output_type": "execute_result"
    }
   ],
   "source": [
    "## Taking the example of the LoanId_1376\n",
    "train[train.LoanId=='LoanId_1376']"
   ]
  },
  {
   "cell_type": "markdown",
   "metadata": {},
   "source": [
    "***Alright, i can make some sense out of it. Since a single loan is paid by multiple transactions, when a loan defaults, all the transactions associated with that loan are marked as Defaulted. In the example above, you can see some payments ( PaidOnDate ) were made sooner than the DueDate but 2 associated payments were made much later which made the whole loan default. And all transactions associated to that loan are defaulted.***"
   ]
  },
  {
   "cell_type": "code",
   "execution_count": null,
   "metadata": {},
   "outputs": [],
   "source": []
  }
 ],
 "metadata": {
  "kernelspec": {
   "display_name": "Python 3",
   "language": "python",
   "name": "python3"
  },
  "language_info": {
   "codemirror_mode": {
    "name": "ipython",
    "version": 3
   },
   "file_extension": ".py",
   "mimetype": "text/x-python",
   "name": "python",
   "nbconvert_exporter": "python",
   "pygments_lexer": "ipython3",
   "version": "3.7.1"
  }
 },
 "nbformat": 4,
 "nbformat_minor": 2
}
